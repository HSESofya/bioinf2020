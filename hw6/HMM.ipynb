{
 "cells": [
  {
   "cell_type": "markdown",
   "metadata": {},
   "source": [
    "# Алгоритм Витерби"
   ]
  },
  {
   "cell_type": "code",
   "execution_count": 1,
   "metadata": {},
   "outputs": [],
   "source": [
    "import numpy as np"
   ]
  },
  {
   "cell_type": "code",
   "execution_count": 25,
   "metadata": {},
   "outputs": [
    {
     "name": "stdout",
     "output_type": "stream",
     "text": [
      "Введите номер теста:\n",
      "2\n"
     ]
    }
   ],
   "source": [
    "print(\"Введите номер теста:\")\n",
    "test = int(input())\n",
    "if test == 1:\n",
    "    a = np.array([[0.8,0.2],[0.2,0.8]])\n",
    "    b = np.array([[0.5,0.5],[0.1,0.9]])\n",
    "elif test == 2:\n",
    "    a = np.array([[0.5,0.5],[0.5,0.5]])\n",
    "    b = np.array([[0.5,0.5],[0.51,0.49]])\n",
    "pi = 0.5\n",
    "obs = [0,1,0,1,0,1,0,0,1,1,1,1,1,1,1,1,1,1,0,0,0,0,0,0,0,0]\n",
    "n = len(obs)\n",
    "m = a.shape[0]"
   ]
  },
  {
   "cell_type": "code",
   "execution_count": 26,
   "metadata": {},
   "outputs": [],
   "source": [
    "def viterbi(y, a, b):\n",
    "    K = len(a)\n",
    "    T = len(y)\n",
    "    \n",
    "    T1 = np.empty((K, T))\n",
    "    T2 = np.empty((K, T))\n",
    "\n",
    "    # initialization\n",
    "    T1[:, 0] = pi * b[:, y[0]]\n",
    "    T2[:, 0] = 0\n",
    "\n",
    "    # iteration\n",
    "    for i in range(1, T):\n",
    "        T1[:, i] = np.max(T1[:, i - 1] * a.T * b[np.newaxis, :, y[i]].T, 1)\n",
    "        T2[:, i] = np.argmax(T1[:, i - 1] * a.T,1)\n",
    "\n",
    "    # getiing best path\n",
    "    x = np.empty(T, 'b')\n",
    "    x[-1] = np.argmax(T1[:, T - 1])\n",
    "    \n",
    "    for i in reversed(range(1, T)):\n",
    "        x[i - 1] = T2[x[i], i]\n",
    "\n",
    "    return x, T1, T2"
   ]
  },
  {
   "cell_type": "code",
   "execution_count": 27,
   "metadata": {},
   "outputs": [
    {
     "name": "stdout",
     "output_type": "stream",
     "text": [
      "[1 0 1 0 1 0 1 1 0 0 0 0 0 0 0 0 0 0 1 1 1 1 1 1 1 1]\n"
     ]
    }
   ],
   "source": [
    "obs = [0,1,0,1,0,1,0,0,1,1,1,1,1,1,1,1,1,1,0,0,0,0,0,0,0,0]\n",
    "x, T1, T2 = viterbi(obs, a, b)\n",
    "print(x)"
   ]
  },
  {
   "cell_type": "markdown",
   "metadata": {},
   "source": [
    "# Алгоритм Forward-Backward"
   ]
  },
  {
   "cell_type": "code",
   "execution_count": 39,
   "metadata": {},
   "outputs": [],
   "source": [
    "def alpha(obs):     \n",
    "        alpha = np.zeros((n, m))\n",
    "        for i in range(m):\n",
    "            alpha[0,i]= pi*b[i,obs[0]]\n",
    "            \n",
    "        for t in range(1, n):\n",
    "            alpha[t] = alpha[t-1]@a * b[:, obs[t]]\n",
    "        return alpha\n",
    "\n",
    "def beta(obs):\n",
    "        beta = np.zeros((m, n))\n",
    "        beta[:,-1:] = 1\n",
    "\n",
    "        for t in reversed(range(n-1)):\n",
    "            for i in range(m):\n",
    "                beta[i,t] = np.sum(beta[:,t+1] * a[i,:] * b[:, obs[t+1]])\n",
    "        return beta\n",
    "    \n",
    "def probabilities(obs):\n",
    "    alpha_ = alpha(obs)\n",
    "    beta_ = beta(obs)\n",
    "    alpha_sum = sum(alpha(obs)[-1])\n",
    "    return np.multiply(alpha_,beta_.T)/alpha_sum\n"
   ]
  },
  {
   "cell_type": "code",
   "execution_count": 41,
   "metadata": {},
   "outputs": [
    {
     "data": {
      "text/plain": [
       "array([[0.4950495 , 0.5049505 ],\n",
       "       [0.50505051, 0.49494949],\n",
       "       [0.4950495 , 0.5049505 ],\n",
       "       [0.50505051, 0.49494949],\n",
       "       [0.4950495 , 0.5049505 ],\n",
       "       [0.50505051, 0.49494949],\n",
       "       [0.4950495 , 0.5049505 ],\n",
       "       [0.4950495 , 0.5049505 ],\n",
       "       [0.50505051, 0.49494949],\n",
       "       [0.50505051, 0.49494949],\n",
       "       [0.50505051, 0.49494949],\n",
       "       [0.50505051, 0.49494949],\n",
       "       [0.50505051, 0.49494949],\n",
       "       [0.50505051, 0.49494949],\n",
       "       [0.50505051, 0.49494949],\n",
       "       [0.50505051, 0.49494949],\n",
       "       [0.50505051, 0.49494949],\n",
       "       [0.50505051, 0.49494949],\n",
       "       [0.4950495 , 0.5049505 ],\n",
       "       [0.4950495 , 0.5049505 ],\n",
       "       [0.4950495 , 0.5049505 ],\n",
       "       [0.4950495 , 0.5049505 ],\n",
       "       [0.4950495 , 0.5049505 ],\n",
       "       [0.4950495 , 0.5049505 ],\n",
       "       [0.4950495 , 0.5049505 ],\n",
       "       [0.4950495 , 0.5049505 ]])"
      ]
     },
     "execution_count": 41,
     "metadata": {},
     "output_type": "execute_result"
    }
   ],
   "source": [
    "probabilities(obs)"
   ]
  },
  {
   "cell_type": "code",
   "execution_count": null,
   "metadata": {},
   "outputs": [],
   "source": []
  }
 ],
 "metadata": {
  "kernelspec": {
   "display_name": "Python 3",
   "language": "python",
   "name": "python3"
  },
  "language_info": {
   "codemirror_mode": {
    "name": "ipython",
    "version": 3
   },
   "file_extension": ".py",
   "mimetype": "text/x-python",
   "name": "python",
   "nbconvert_exporter": "python",
   "pygments_lexer": "ipython3",
   "version": "3.7.3"
  }
 },
 "nbformat": 4,
 "nbformat_minor": 2
}
