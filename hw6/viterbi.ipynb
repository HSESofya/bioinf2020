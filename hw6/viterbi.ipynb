{
 "cells": [
  {
   "cell_type": "code",
   "execution_count": 179,
   "metadata": {},
   "outputs": [],
   "source": [
    "import numpy as np"
   ]
  },
  {
   "cell_type": "code",
   "execution_count": 180,
   "metadata": {},
   "outputs": [
    {
     "name": "stdout",
     "output_type": "stream",
     "text": [
      "Введите номер теста:\n",
      "1\n"
     ]
    }
   ],
   "source": [
    "print(\"Введите номер теста:\")\n",
    "test = int(input())\n",
    "if test == 1:\n",
    "    a = np.array([[0.8,0.2],[0.2,0.8]])\n",
    "    b = np.array([[0.5,0.5],[0.1,0.9]])\n",
    "elif test == 2:\n",
    "    a = np.array([[0.5,0.5],[0.5,0.5]])\n",
    "    b = np.array([[0.5,0.5],[0.51,0.49]])"
   ]
  },
  {
   "cell_type": "code",
   "execution_count": 181,
   "metadata": {},
   "outputs": [],
   "source": [
    "def viterbi(y, a, b):\n",
    "    K = len(a)\n",
    "    T = len(y)\n",
    "    \n",
    "    T1 = np.empty((K, T))\n",
    "    T2 = np.empty((K, T))\n",
    "\n",
    "    # initialization\n",
    "    T1[:, 0] = pi * b[:, y[0]]\n",
    "    T2[:, 0] = 0\n",
    "\n",
    "    # iteration\n",
    "    for i in range(1, T):\n",
    "        T1[:, i] = np.max(T1[:, i - 1] * a.T * b[np.newaxis, :, y[i]].T, 1)\n",
    "        T2[:, i] = np.argmax(T1[:, i - 1] * a.T,1)\n",
    "\n",
    "    # getiing best path\n",
    "    x = np.empty(T, 'b')\n",
    "    x[-1] = np.argmax(T1[:, T - 1])\n",
    "    \n",
    "    for i in reversed(range(1, T)):\n",
    "        x[i - 1] = T2[x[i], i]\n",
    "\n",
    "    return x, T1, T2"
   ]
  },
  {
   "cell_type": "code",
   "execution_count": 188,
   "metadata": {},
   "outputs": [
    {
     "name": "stdout",
     "output_type": "stream",
     "text": [
      "[O O O O O O O O P P P P P P P P P P O O O O O O O O]\n"
     ]
    }
   ],
   "source": [
    "obs = [0,1,0,1,0,1,0,0,1,1,1,1,1,1,1,1,1,1,0,0,0,0,0,0,0,0]\n",
    "x, T1, T2 = viterbi(obs, a, b)\n",
    "x = (str(x)).replace(\"1\",\"P\")\n",
    "x = (str(x)).replace(\"0\",\"O\")\n",
    "print(x)"
   ]
  }
 ],
 "metadata": {
  "kernelspec": {
   "display_name": "Python 3",
   "language": "python",
   "name": "python3"
  },
  "language_info": {
   "codemirror_mode": {
    "name": "ipython",
    "version": 3
   },
   "file_extension": ".py",
   "mimetype": "text/x-python",
   "name": "python",
   "nbconvert_exporter": "python",
   "pygments_lexer": "ipython3",
   "version": "3.7.3"
  }
 },
 "nbformat": 4,
 "nbformat_minor": 2
}
