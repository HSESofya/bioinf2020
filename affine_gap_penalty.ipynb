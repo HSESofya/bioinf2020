{
 "cells": [
  {
   "cell_type": "code",
   "execution_count": 4,
   "metadata": {},
   "outputs": [],
   "source": [
    "import numpy as np"
   ]
  },
  {
   "cell_type": "code",
   "execution_count": 24,
   "metadata": {},
   "outputs": [],
   "source": [
    "def affine_gap_alignment(seq1, seq2, weight_match, weight_mismatch, open_gap_penalty, continue_gap_penalty):\n",
    "    n, m = len(seq1), len(seq2)\n",
    "    main = np.zeros((n + 1, m + 1))\n",
    "    lower = np.zeros((n + 1, m + 1))\n",
    "    upper = np.zeros((n + 1, m + 1))\n",
    "    backtrace = np.zeros((n + 1, m + 1))\n",
    "    \n",
    "    backtrace[0][0] = 10e8\n",
    "            \n",
    "    main[0][0] = 0\n",
    "    main[0][1] = -open_gap_penalty\n",
    "    main[1][0] = -open_gap_penalty\n",
    "\n",
    "    for i in range(n+1):\n",
    "        upper[i][0] = n*-open_gap_penalty*10e8\n",
    "        upper[0][1] = -open_gap_penalty\n",
    "        backtrace[i][0] = 0\n",
    "    for i in range(m+1):\n",
    "        lower[0][i] = n*-open_gap_penalty*10e8\n",
    "        lower[1][0] = -open_gap_penalty\n",
    "        backtrace[0][i] = -1\n",
    "    \n",
    "    for i in range(2, n + 1):\n",
    "        main[i][0] = main[i-1][0] - continue_gap_penalty\n",
    "        lower[i][0] = lower[i-1][0] - continue_gap_penalty\n",
    "\n",
    "    for i in range(2, m + 1):\n",
    "        main[0][i] = main[0][i-1] - continue_gap_penalty\n",
    "        upper[0][i] = upper[0][i-1] - continue_gap_penalty\n",
    "        \n",
    "    for i in range(n + 1):\n",
    "        for j in range(m + 1):\n",
    "            lower[i][j] = max(lower[i-1][j] - continue_gap_penalty, main[i-1][j] - open_gap_penalty)\n",
    "            upper[i][j] = max(upper[i][j-1] - continue_gap_penalty, main[i][j-1] - open_gap_penalty)\n",
    "            score_curr = main[i-1][j-1]\n",
    "            score = weight_match if seq1[i-1] == seq2[j-1] else weight_mismatch\n",
    "            main[i][j] = max(score_curr + score, lower[i][j], upper[i][j])\n",
    "            \n",
    "            # заполним вспомогательную матрицу для обратного хода\n",
    "            opt = max(score_curr + score, lower[i][j], upper[i][j])\n",
    "            if opt == score_curr + score:\n",
    "                backtrace[i][j] = 1\n",
    "            elif opt == lower[i][j]:\n",
    "                backtrace[i][j] = 0\n",
    "            else:\n",
    "                backtrace[i][j] = -1\n",
    "            \n",
    "    # собираем выравнивание по матрице backtrace        \n",
    "    al1 = \"\"\n",
    "    al2 = \"\"\n",
    "    i, j = n, m\n",
    "    while i > 0 or j > 0:\n",
    "        if backtrace[i][j] == 1:\n",
    "            al1 = seq1[i-1] + al1\n",
    "            al2 = seq2[j-1] + al2\n",
    "            i -= 1\n",
    "            j -= 1\n",
    "        elif backtrace[i][j] == 0:\n",
    "            al1 = seq1[i-1] + al1\n",
    "            al2 = \"_\" + al2\n",
    "            i -= 1\n",
    "        elif backtrace[i][j] == -1:\n",
    "            al1 = \"_\" + al1\n",
    "            al2 = seq2[j-1] + al2\n",
    "            j -= 1\n",
    "    print(al1, al2, sep=\"\\n\")\n",
    "\n",
    "    "
   ]
  },
  {
   "cell_type": "code",
   "execution_count": 27,
   "metadata": {},
   "outputs": [
    {
     "name": "stdout",
     "output_type": "stream",
     "text": [
      "AGCAGGCTCGTTATGCATGGCCGAGCA\n",
      "AGAGATTTAGCAAACCCTCTAACAGCC\n",
      "\n",
      "\n",
      "GAGCAG_GCTCGTTATGCATGGCCGAGCA\n",
      "AG__AGATTTAGCAAACCCTCTAACAGCC\n"
     ]
    }
   ],
   "source": [
    "a = \"GGCTCGTTATGCATGGCCGAGCA\"\n",
    "b = \"AGAGATTTAGCAAACCCTCTAACAGCC\"\n",
    "\n",
    "match1 = 3\n",
    "mismatch1 = 2\n",
    "open1 = 10\n",
    "extend1 = 2\n",
    "\n",
    "match2 = 10\n",
    "mismatch2 = 2\n",
    "open2 = 15\n",
    "extend2 = 7\n",
    "\n",
    "affine_gap_alignment(a, b, match1, mismatch1, open1, extend1)\n",
    "print(\"\\n\")\n",
    "affine_gap_alignment(a, b, match2, mismatch2, open2, extend2)"
   ]
  },
  {
   "cell_type": "code",
   "execution_count": null,
   "metadata": {},
   "outputs": [],
   "source": []
  }
 ],
 "metadata": {
  "kernelspec": {
   "display_name": "Python 3",
   "language": "python",
   "name": "python3"
  },
  "language_info": {
   "codemirror_mode": {
    "name": "ipython",
    "version": 3
   },
   "file_extension": ".py",
   "mimetype": "text/x-python",
   "name": "python",
   "nbconvert_exporter": "python",
   "pygments_lexer": "ipython3",
   "version": "3.7.3"
  }
 },
 "nbformat": 4,
 "nbformat_minor": 2
}
