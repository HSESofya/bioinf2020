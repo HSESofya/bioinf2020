{
 "cells": [
  {
   "cell_type": "markdown",
   "metadata": {},
   "source": [
    "# Алгоритм Нидлмана-Вунша"
   ]
  },
  {
   "cell_type": "code",
   "execution_count": 30,
   "metadata": {},
   "outputs": [],
   "source": [
    "from IPython.display import HTML, display\n",
    "import numpy as np\n",
    "\n",
    "def display_table(data):\n",
    "    html = \"<table>\"\n",
    "    for row in data:\n",
    "        html += \"<tr>\"\n",
    "        for field in row:\n",
    "            html += \"<td><h4>%s</h4><td>\"%(field)\n",
    "        html += \"</tr>\"\n",
    "    html += \"</table>\"\n",
    "    display(HTML(html))"
   ]
  },
  {
   "cell_type": "markdown",
   "metadata": {},
   "source": [
    "Посмотрим, как будут меняться выравнивания в зависимости от матрицы весов на примере следующих последовательностей:"
   ]
  },
  {
   "cell_type": "code",
   "execution_count": 31,
   "metadata": {},
   "outputs": [],
   "source": [
    "a = \"GGCTCGTTATGCATGGCCGAGCA\"\n",
    "b = \"AGAGATTTAGCAAACCCTCTAACAGCC\""
   ]
  },
  {
   "cell_type": "markdown",
   "metadata": {},
   "source": [
    "Для получения первых выравниваний использовалась следующая матрица весов:"
   ]
  },
  {
   "cell_type": "code",
   "execution_count": 32,
   "metadata": {},
   "outputs": [
    {
     "data": {
      "text/html": [
       "<table><tr><td><h4>-</h4><td><td><h4>A</h4><td><td><h4>C</h4><td><td><h4>G</h4><td><td><h4>T</h4><td></tr><tr><td><h4>A</h4><td><td><h4>1</h4><td><td><h4>-1</h4><td><td><h4>-1</h4><td><td><h4>-1</h4><td></tr><tr><td><h4>C</h4><td><td><h4>-1</h4><td><td><h4>1</h4><td><td><h4>-1</h4><td><td><h4>-1</h4><td></tr><tr><td><h4>G</h4><td><td><h4>-1</h4><td><td><h4>-1</h4><td><td><h4>1</h4><td><td><h4>-1</h4><td></tr><tr><td><h4>T</h4><td><td><h4>-1</h4><td><td><h4>-1</h4><td><td><h4>-1</h4><td><td><h4>1</h4><td></tr></table>"
      ],
      "text/plain": [
       "<IPython.core.display.HTML object>"
      ]
     },
     "metadata": {},
     "output_type": "display_data"
    }
   ],
   "source": [
    "data = [[\"-\",\"A\",\"C\",\"G\",\"T\"],[\"A\",1,-1,-1,-1],[\"C\",-1,1,-1,-1],[\"G\",-1,-1,1,-1],[\"T\",-1,-1,-1,1]]\n",
    "display_table(data)"
   ]
  },
  {
   "cell_type": "markdown",
   "metadata": {},
   "source": [
    "И соотвествующая функция score()"
   ]
  },
  {
   "cell_type": "code",
   "execution_count": 34,
   "metadata": {},
   "outputs": [],
   "source": [
    "def score(x,y):\n",
    "    if x == y:\n",
    "        return match\n",
    "    if x == \"_\" or y == \"_\":\n",
    "        return gap\n",
    "    return mismatch"
   ]
  },
  {
   "cell_type": "markdown",
   "metadata": {},
   "source": [
    "Будем использовать новую матрицу весов и посмотрим, как изменятся выравнивания:"
   ]
  },
  {
   "cell_type": "code",
   "execution_count": 35,
   "metadata": {},
   "outputs": [
    {
     "data": {
      "text/html": [
       "<table><tr><td><h4>-</h4><td><td><h4>A</h4><td><td><h4>C</h4><td><td><h4>G</h4><td><td><h4>T</h4><td></tr><tr><td><h4>A</h4><td><td><h4>8</h4><td><td><h4>-1</h4><td><td><h4>-1</h4><td><td><h4>-1</h4><td></tr><tr><td><h4>C</h4><td><td><h4>-1</h4><td><td><h4>9</h4><td><td><h4>-1</h4><td><td><h4>-1</h4><td></tr><tr><td><h4>G</h4><td><td><h4>-1</h4><td><td><h4>-1</h4><td><td><h4>7</h4><td><td><h4>-1</h4><td></tr><tr><td><h4>T</h4><td><td><h4>-1</h4><td><td><h4>-1</h4><td><td><h4>-1</h4><td><td><h4>10</h4><td></tr></table>"
      ],
      "text/plain": [
       "<IPython.core.display.HTML object>"
      ]
     },
     "metadata": {},
     "output_type": "display_data"
    }
   ],
   "source": [
    "data = [[\"-\",\"A\",\"C\",\"G\",\"T\"],[\"A\",8,-1,-1,-1],[\"C\",-1,9,-1,-1],[\"G\",-1,-1,7,-1],[\"T\",-1,-1,-1,10]]\n",
    "display_table(data)"
   ]
  },
  {
   "cell_type": "markdown",
   "metadata": {},
   "source": [
    "Этой матрице будет соответствовать новая функция score_new()"
   ]
  },
  {
   "cell_type": "code",
   "execution_count": 19,
   "metadata": {},
   "outputs": [],
   "source": [
    "def score_new(x,y):\n",
    "    if x == \"T\" and y == \"T\":\n",
    "        return 10\n",
    "    if x == \"A\" and y == \"A\":\n",
    "        return 8\n",
    "    if x == \"C\" and y == \"C\":\n",
    "        return 9\n",
    "    if x == \"G\" and y == \"G\":\n",
    "        return 7\n",
    "    if x == \"_\" or y == \"_\":\n",
    "        return gap\n",
    "    if x != y:\n",
    "        return mismatch"
   ]
  },
  {
   "cell_type": "markdown",
   "metadata": {},
   "source": [
    "Изменим штраф за несовпадение A и С и снова посмотрим, как изменятся выравнивания."
   ]
  },
  {
   "cell_type": "code",
   "execution_count": 46,
   "metadata": {},
   "outputs": [
    {
     "data": {
      "text/html": [
       "<table><tr><td><h4>-</h4><td><td><h4>A</h4><td><td><h4>C</h4><td><td><h4>G</h4><td><td><h4>T</h4><td></tr><tr><td><h4>A</h4><td><td><h4>8</h4><td><td><h4>-3</h4><td><td><h4>-1</h4><td><td><h4>-1</h4><td></tr><tr><td><h4>C</h4><td><td><h4>-3</h4><td><td><h4>9</h4><td><td><h4>-1</h4><td><td><h4>-1</h4><td></tr><tr><td><h4>G</h4><td><td><h4>-1</h4><td><td><h4>-1</h4><td><td><h4>7</h4><td><td><h4>-1</h4><td></tr><tr><td><h4>T</h4><td><td><h4>-1</h4><td><td><h4>-1</h4><td><td><h4>-1</h4><td><td><h4>10</h4><td></tr></table>"
      ],
      "text/plain": [
       "<IPython.core.display.HTML object>"
      ]
     },
     "metadata": {},
     "output_type": "display_data"
    }
   ],
   "source": [
    "data = [[\"-\",\"A\",\"C\",\"G\",\"T\"],[\"A\",8,-3,-1,-1],[\"C\",-3,9,-1,-1],[\"G\",-1,-1,7,-1],[\"T\",-1,-1,-1,10]]\n",
    "display_table(data)"
   ]
  },
  {
   "cell_type": "code",
   "execution_count": 47,
   "metadata": {},
   "outputs": [],
   "source": [
    "def score_upd(x,y):\n",
    "    if x == \"T\" and y == \"T\":\n",
    "        return 10\n",
    "    if x == \"A\" and y == \"A\":\n",
    "        return 8\n",
    "    if x == \"C\" and y == \"C\":\n",
    "        return 9\n",
    "    if x == \"G\" and y == \"G\":\n",
    "        return 7\n",
    "    if (x == \"A\" and y == \"C\") or (x == \"C\" and y == \"A\"):\n",
    "        return -3\n",
    "    if x == \"_\" or y == \"_\":\n",
    "        return gap\n",
    "    if x != y:\n",
    "        return mismatch"
   ]
  },
  {
   "cell_type": "markdown",
   "metadata": {},
   "source": [
    "Ниже представлен сам алгоритм выравнивания и результаты его работы на разных матрицах весов:"
   ]
  },
  {
   "cell_type": "code",
   "execution_count": 48,
   "metadata": {},
   "outputs": [],
   "source": [
    "def needleman_wunsch(a, b, score_fun):\n",
    "    n, m = len(a), len(b)\n",
    "    match = 1\n",
    "    gap = -1\n",
    "    mismatch = -1\n",
    "    mat = np.zeros((m + 1, n + 1))\n",
    "    \n",
    "    for i in range(0, m + 1):\n",
    "            mat[i][0] = gap * i\n",
    "    for j in range(0, n + 1):\n",
    "            mat[0][j] = gap * j\n",
    "    for i in range(1, m + 1):\n",
    "        for j in range(1, n + 1):\n",
    "            top = mat[i-1][j] + gap\n",
    "            left = mat[i][j-1] + gap\n",
    "            diag = mat[i-1][j-1] + score_fun(a[j-1],b[i-1])\n",
    "            mat[i][j] = max(diag, left , top)      \n",
    "    seq1 = \"\"\n",
    "    seq2 = \"\"\n",
    "\n",
    "    i = m\n",
    "    j = n\n",
    "    while i > 0 and j > 0:\n",
    "        score_curr = mat[i][j]\n",
    "        score_top = mat[i][j-1]\n",
    "        score_left = mat[i-1][j]\n",
    "        score_diag = mat[i-1][j-1]\n",
    "        if score_curr == score_diag + score_fun(a[j-1], b[i-1]):\n",
    "            seq1 = a[j-1] + seq1\n",
    "            seq2 = b[i-1] + seq2\n",
    "            i -= 1\n",
    "            j -= 1\n",
    "        elif score_curr == score_top + gap:\n",
    "            seq1 = a[j-1] + seq1\n",
    "            seq2 = '_' + seq2\n",
    "            j -= 1\n",
    "        elif score_curr == score_left + gap:\n",
    "            seq1 = '_' + seq1\n",
    "            seq2 = b[i-1] + seq2\n",
    "            i -= 1\n",
    "    while j > 0:\n",
    "        seq1 = a[j-1] + seq1\n",
    "        seq2 = '_' + seq2\n",
    "        j -= 1\n",
    "    while i > 0:\n",
    "        seq1 = '_' + seq1\n",
    "        seq2 = b[i-1] + seq2\n",
    "        i -= 1\n",
    "\n",
    "\n",
    "    print(seq1, seq2, sep = \"\\n\")"
   ]
  },
  {
   "cell_type": "code",
   "execution_count": 49,
   "metadata": {},
   "outputs": [
    {
     "name": "stdout",
     "output_type": "stream",
     "text": [
      "_G_GCTCGTTATGC_ATGGC_C___GAGCA\n",
      "AGAGAT__TTA_GCAAACCCTCTAACAGCC\n"
     ]
    }
   ],
   "source": [
    "needleman_wunsch(a, b, score)"
   ]
  },
  {
   "cell_type": "code",
   "execution_count": 50,
   "metadata": {},
   "outputs": [
    {
     "name": "stdout",
     "output_type": "stream",
     "text": [
      "_G_GCTCGTTATGC__A___TGGC___CGAGCA\n",
      "AGAGAT__TTA_GCAAACCCT__CTAAC_AGCC\n"
     ]
    }
   ],
   "source": [
    "needleman_wunsch(a, b, score_new)"
   ]
  },
  {
   "cell_type": "code",
   "execution_count": 51,
   "metadata": {},
   "outputs": [
    {
     "name": "stdout",
     "output_type": "stream",
     "text": [
      "_G_G_CTCGTTATGC__A___TGGC___CGAG_CA\n",
      "AGAGA_T__TTA_GCAAACCCT__CTAAC_AGCC_\n"
     ]
    }
   ],
   "source": [
    "needleman_wunsch(a, b, score_upd)"
   ]
  },
  {
   "cell_type": "code",
   "execution_count": null,
   "metadata": {},
   "outputs": [],
   "source": []
  }
 ],
 "metadata": {
  "kernelspec": {
   "display_name": "Python 3",
   "language": "python",
   "name": "python3"
  },
  "language_info": {
   "codemirror_mode": {
    "name": "ipython",
    "version": 3
   },
   "file_extension": ".py",
   "mimetype": "text/x-python",
   "name": "python",
   "nbconvert_exporter": "python",
   "pygments_lexer": "ipython3",
   "version": "3.7.3"
  }
 },
 "nbformat": 4,
 "nbformat_minor": 2
}
