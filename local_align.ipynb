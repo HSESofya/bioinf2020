{
 "cells": [
  {
   "cell_type": "markdown",
   "metadata": {},
   "source": [
    "# Сравнение результатов для глобального и локального выравнивания двух последовательностей"
   ]
  },
  {
   "cell_type": "code",
   "execution_count": 133,
   "metadata": {},
   "outputs": [],
   "source": [
    "import numpy as np\n",
    "a = \"AATCGAAGTCA\"\n",
    "b = \"AACGCAGAAT\"\n",
    "match = 3\n",
    "gap = -2\n",
    "mismatch = -1"
   ]
  },
  {
   "cell_type": "code",
   "execution_count": null,
   "metadata": {},
   "outputs": [],
   "source": [
    "def score(x,y):\n",
    "    if x == y:\n",
    "        return match\n",
    "    if x == \"_\" or y == \"_\":\n",
    "        return gap\n",
    "    return mismatch"
   ]
  },
  {
   "cell_type": "markdown",
   "metadata": {},
   "source": [
    "Аналогично алгоритму Нидлмана-Вунша заполняем матрицу весов:"
   ]
  },
  {
   "cell_type": "code",
   "execution_count": 135,
   "metadata": {},
   "outputs": [],
   "source": [
    "def score_matrix(seq1, seq2, score_fun):\n",
    "    n, m = len(seq1), len(seq2)\n",
    "    match = 3\n",
    "    gap = -2\n",
    "    mismatch = -1\n",
    "    mat = np.zeros((m + 1, n + 1))\n",
    "    \n",
    "    for i in range(0, m + 1):\n",
    "            mat[i][0] = 0   \n",
    "    for j in range(0, n + 1):\n",
    "            mat[0][j] = 0   \n",
    "    for i in range(1, m + 1):\n",
    "        for j in range(1, n + 1):\n",
    "            top = mat[i-1][j] + gap\n",
    "            left = mat[i][j-1] + gap\n",
    "            diag = mat[i-1][j-1] + score_fun(seq1[j-1],seq2[i-1])\n",
    "            mat[i][j] = max(diag, left , top, 0)\n",
    "    return(mat)"
   ]
  },
  {
   "cell_type": "markdown",
   "metadata": {},
   "source": [
    "Возвращаемся назад от клетки с максимальным значением до нуля, собирая выравнивание"
   ]
  },
  {
   "cell_type": "code",
   "execution_count": 145,
   "metadata": {},
   "outputs": [],
   "source": [
    "def traceback(mat, seq1, seq2):\n",
    "    i, j = np.unravel_index(M.argmax(), M.shape)\n",
    "    al1 = \"\"\n",
    "    al2 = \"\"\n",
    "    while i > 0 and j > 0 and M[i,j] != 0:\n",
    "        score_curr = M[i,j]\n",
    "        score_top = M[i,j-1]\n",
    "        score_left = M[i-1,j]\n",
    "        score_diag = M[i-1,j-1]\n",
    "        if score_curr == score_diag + score(seq1[j-1], seq2[i-1]):\n",
    "            al1 = seq1[j-1] + al1\n",
    "            al2 = seq2[i-1] + al2\n",
    "            i -= 1\n",
    "            j -= 1\n",
    "        elif score_curr == score_top + gap:\n",
    "            al1 = seq1[j-1] + al1\n",
    "            al2 = '_' + al2\n",
    "            j -= 1\n",
    "        elif score_curr == score_left + gap:\n",
    "            al1 = '_' + al1\n",
    "            al2 = seq2[i-1] + al2\n",
    "            i -= 1\n",
    "    while j > 0 and M[i,j] != 0:\n",
    "        al1 = seq1[j-1] + al1\n",
    "        al2 = '_' + al2\n",
    "        j -= 1\n",
    "    while i > 0 and M[i,j] !=0:\n",
    "        al1 = '_' + al1\n",
    "        al2 = seq2[i-1] + al2\n",
    "        i -= 1\n",
    "    print(al1, al2, sep=\"\\n\")"
   ]
  },
  {
   "cell_type": "markdown",
   "metadata": {},
   "source": [
    "Для сравнения будем использовать алгоритм Нидлмана-Вунша из предыдущего домашнего задания:"
   ]
  },
  {
   "cell_type": "code",
   "execution_count": 143,
   "metadata": {},
   "outputs": [],
   "source": [
    "def needleman_wunsch(a, b, score_fun = score):\n",
    "    n, m = len(a), len(b)\n",
    "    match = 3\n",
    "    gap = -2\n",
    "    mismatch = -1\n",
    "    mat = np.zeros((m + 1, n + 1))\n",
    "    \n",
    "    for i in range(0, m + 1):\n",
    "            mat[i][0] = gap * i\n",
    "    for j in range(0, n + 1):\n",
    "            mat[0][j] = gap * j\n",
    "    for i in range(1, m + 1):\n",
    "        for j in range(1, n + 1):\n",
    "            top = mat[i-1][j] + gap\n",
    "            left = mat[i][j-1] + gap\n",
    "            diag = mat[i-1][j-1] + score_fun(a[j-1],b[i-1])\n",
    "            mat[i][j] = max(diag, left , top)      \n",
    "    seq1 = \"\"\n",
    "    seq2 = \"\"\n",
    "\n",
    "    i = m\n",
    "    j = n\n",
    "    while i > 0 and j > 0:\n",
    "        score_curr = mat[i][j]\n",
    "        score_top = mat[i][j-1]\n",
    "        score_left = mat[i-1][j]\n",
    "        score_diag = mat[i-1][j-1]\n",
    "        if score_curr == score_diag + score_fun(a[j-1], b[i-1]):\n",
    "            seq1 = a[j-1] + seq1\n",
    "            seq2 = b[i-1] + seq2\n",
    "            i -= 1\n",
    "            j -= 1\n",
    "        elif score_curr == score_top + gap:\n",
    "            seq1 = a[j-1] + seq1\n",
    "            seq2 = '_' + seq2\n",
    "            j -= 1\n",
    "        elif score_curr == score_left + gap:\n",
    "            seq1 = '_' + seq1\n",
    "            seq2 = b[i-1] + seq2\n",
    "            i -= 1\n",
    "    while j > 0:\n",
    "        seq1 = a[j-1] + seq1\n",
    "        seq2 = '_' + seq2\n",
    "        j -= 1\n",
    "    while i > 0:\n",
    "        seq1 = '_' + seq1\n",
    "        seq2 = b[i-1] + seq2\n",
    "        i -= 1\n",
    "\n",
    "\n",
    "    print(seq1, seq2, sep = \"\\n\")"
   ]
  },
  {
   "cell_type": "code",
   "execution_count": 144,
   "metadata": {},
   "outputs": [
    {
     "name": "stdout",
     "output_type": "stream",
     "text": [
      "AATCGAAGTCA_\n",
      "AA_CGCAG_AAT\n",
      "\n",
      "\n",
      "AATCGAAG\n",
      "AA_CGCAG\n"
     ]
    }
   ],
   "source": [
    "needleman_wunsch(a,b)\n",
    "print(\"\\n\")\n",
    "M = score_matrix(a, b, score)\n",
    "traceback(M, a, b)"
   ]
  },
  {
   "cell_type": "code",
   "execution_count": null,
   "metadata": {},
   "outputs": [],
   "source": []
  }
 ],
 "metadata": {
  "kernelspec": {
   "display_name": "Python 3",
   "language": "python",
   "name": "python3"
  },
  "language_info": {
   "codemirror_mode": {
    "name": "ipython",
    "version": 3
   },
   "file_extension": ".py",
   "mimetype": "text/x-python",
   "name": "python",
   "nbconvert_exporter": "python",
   "pygments_lexer": "ipython3",
   "version": "3.7.3"
  }
 },
 "nbformat": 4,
 "nbformat_minor": 2
}
