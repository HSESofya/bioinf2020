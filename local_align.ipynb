{
 "cells": [
  {
   "cell_type": "markdown",
   "metadata": {},
   "source": [
    "# Сравнение результатов для глобального и локального выравнивания двух последовательностей"
   ]
  },
  {
   "cell_type": "code",
   "execution_count": 87,
   "metadata": {},
   "outputs": [],
   "source": [
    "import numpy as np\n",
    "a2 = \"AATCGAAGTCA\"\n",
    "b2 = \"AACGCAGAAT\"\n",
    "a = \"taactttgcattc\"\n",
    "b = \"ataaatatcactc\"\n",
    "match = 1\n",
    "gap = -1\n",
    "mismatch = -1\n",
    "match2 = 5\n",
    "gap2 = -7\n",
    "mismatch2 = -3"
   ]
  },
  {
   "cell_type": "code",
   "execution_count": 78,
   "metadata": {},
   "outputs": [],
   "source": [
    "def score_fun(x,y):\n",
    "    if x == y:\n",
    "        return match\n",
    "    if x == \"_\" or y == \"_\":\n",
    "        return gap\n",
    "    return mismatch"
   ]
  },
  {
   "cell_type": "code",
   "execution_count": 79,
   "metadata": {},
   "outputs": [],
   "source": [
    "def score_fun2(x,y):\n",
    "    if x == y:\n",
    "        return match2\n",
    "    if x == \"_\" or y == \"_\":\n",
    "        return gap2\n",
    "    return mismatch2"
   ]
  },
  {
   "cell_type": "markdown",
   "metadata": {},
   "source": [
    "Ниже представлена реализация алгоритма локального выравнивания:"
   ]
  },
  {
   "cell_type": "code",
   "execution_count": 83,
   "metadata": {},
   "outputs": [],
   "source": [
    "def local_align(seq1, seq2, score = score_fun):\n",
    "    M = np.zeros((len(seq2)+1, len(seq1) + 1))\n",
    "    max_ = 0\n",
    "    best_ij = (0,0)\n",
    "\n",
    "    for i in range(1, len(seq2) + 1):\n",
    "        for j in range(1, len(seq1) + 1):\n",
    "           \n",
    "            M[i][j] = max(M[i][j-1] + gap, M[i-1][j] + gap, M[i-1][j-1] + score(seq2[i-1], seq1[j-1]))\n",
    "           \n",
    "            if M[i][j] >= max_:\n",
    "                max_ = M[i][j]\n",
    "                best_ij = (i,j)\n",
    "\n",
    "    al1 = \"\"\n",
    "    al2 = \"\"\n",
    "    j, i = best_ij\n",
    "    while (i > 0 or j > 0) and M[j][i] > 0:\n",
    "        curr = M[j][i]\n",
    "\n",
    "        if i > 0 and j > 0 and seq1[i - 1] == seq2[j - 1]:\n",
    "            al1 = seq1[i - 1] + al1\n",
    "            al2 = seq2[j - 1] + al2\n",
    "            i -= 1\n",
    "            j -= 1\n",
    "        elif i > 0 and (curr == M[j][i - 1] + mismatch or curr == M[j][i - 1] + gap) and M[j][i - 1] > 0:\n",
    "            al1 = seq1[i - 1] + al1\n",
    "            al2 = \"_\" + al2\n",
    "            i -= 1\n",
    "        else:\n",
    "            al1 = \"_\" + al1\n",
    "            al2 = seq2[j - 1] + al2\n",
    "            j -= 1\n",
    " \n",
    "    print(al1, al2, sep=\"\\n\")\n"
   ]
  },
  {
   "cell_type": "markdown",
   "metadata": {},
   "source": [
    "Для сравнения будем использовать алгоритм Нидлмана-Вунша из предыдущего домашнего задания:"
   ]
  },
  {
   "cell_type": "code",
   "execution_count": 84,
   "metadata": {},
   "outputs": [],
   "source": [
    "def needleman_wunsch(a, b, score = score_fun):\n",
    "    n, m = len(a), len(b)\n",
    "    match = 3\n",
    "    gap = -2\n",
    "    mismatch = -1\n",
    "    mat = np.zeros((m + 1, n + 1))\n",
    "    \n",
    "    for i in range(0, m + 1):\n",
    "            mat[i][0] = gap * i\n",
    "    for j in range(0, n + 1):\n",
    "            mat[0][j] = gap * j\n",
    "    for i in range(1, m + 1):\n",
    "        for j in range(1, n + 1):\n",
    "            top = mat[i-1][j] + gap\n",
    "            left = mat[i][j-1] + gap\n",
    "            diag = mat[i-1][j-1] + score(a[j-1],b[i-1])\n",
    "            mat[i][j] = max(diag, left , top)      \n",
    "    seq1 = \"\"\n",
    "    seq2 = \"\"\n",
    "\n",
    "    i = m\n",
    "    j = n\n",
    "    while i > 0 and j > 0:\n",
    "        score_curr = mat[i][j]\n",
    "        score_top = mat[i][j-1]\n",
    "        score_left = mat[i-1][j]\n",
    "        score_diag = mat[i-1][j-1]\n",
    "        if score_curr == score_diag + score(a[j-1], b[i-1]):\n",
    "            seq1 = a[j-1] + seq1\n",
    "            seq2 = b[i-1] + seq2\n",
    "            i -= 1\n",
    "            j -= 1\n",
    "        elif score_curr == score_top + gap:\n",
    "            seq1 = a[j-1] + seq1\n",
    "            seq2 = '_' + seq2\n",
    "            j -= 1\n",
    "        elif score_curr == score_left + gap:\n",
    "            seq1 = '_' + seq1\n",
    "            seq2 = b[i-1] + seq2\n",
    "            i -= 1\n",
    "    while j > 0:\n",
    "        seq1 = a[j-1] + seq1\n",
    "        seq2 = '_' + seq2\n",
    "        j -= 1\n",
    "    while i > 0:\n",
    "        seq1 = '_' + seq1\n",
    "        seq2 = b[i-1] + seq2\n",
    "        i -= 1\n",
    "\n",
    "\n",
    "    print(seq1, seq2, sep = \"\\n\")"
   ]
  },
  {
   "cell_type": "code",
   "execution_count": 85,
   "metadata": {},
   "outputs": [
    {
     "name": "stdout",
     "output_type": "stream",
     "text": [
      "_taactttgcattc\n",
      "ataaatat_cactc\n",
      "\n",
      "\n",
      "taac_tt_tgcat_tc\n",
      "taa_a_tat_ca_ctc\n"
     ]
    }
   ],
   "source": [
    "needleman_wunsch(a,b)\n",
    "print(\"\\n\")\n",
    "local_align(a,b)"
   ]
  },
  {
   "cell_type": "code",
   "execution_count": 86,
   "metadata": {},
   "outputs": [
    {
     "name": "stdout",
     "output_type": "stream",
     "text": [
      "_taactttgcattc\n",
      "ataaatat_cactc\n",
      "\n",
      "\n",
      "t_aact_ttgca_ttc\n",
      "taaa_ta_t_cac_tc\n"
     ]
    }
   ],
   "source": [
    "needleman_wunsch(a, b, score = score_fun2)\n",
    "print(\"\\n\")\n",
    "local_align(a, b, score = score_fun2)"
   ]
  },
  {
   "cell_type": "code",
   "execution_count": null,
   "metadata": {},
   "outputs": [],
   "source": []
  }
 ],
 "metadata": {
  "kernelspec": {
   "display_name": "Python 3",
   "language": "python",
   "name": "python3"
  },
  "language_info": {
   "codemirror_mode": {
    "name": "ipython",
    "version": 3
   },
   "file_extension": ".py",
   "mimetype": "text/x-python",
   "name": "python",
   "nbconvert_exporter": "python",
   "pygments_lexer": "ipython3",
   "version": "3.7.3"
  }
 },
 "nbformat": 4,
 "nbformat_minor": 2
}
